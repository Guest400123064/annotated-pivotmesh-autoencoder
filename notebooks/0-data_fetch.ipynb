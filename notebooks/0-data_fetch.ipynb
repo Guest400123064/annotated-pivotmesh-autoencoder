{
 "cells": [
  {
   "cell_type": "code",
   "execution_count": 1,
   "metadata": {},
   "outputs": [],
   "source": [
    "from itertools import islice\n",
    "\n",
    "\n",
    "def to_batches(it, n):\n",
    "    it = iter(it)\n",
    "    return iter(lambda: tuple(islice(it, n)), ())"
   ]
  },
  {
   "cell_type": "code",
   "execution_count": null,
   "metadata": {},
   "outputs": [],
   "source": [
    "import torch\n",
    "from meshae.model import FeatureEmbeddingConfig, MeshAEEmbedding\n",
    "\n",
    "\n",
    "cfg = {\n",
    "    \"area\": FeatureEmbeddingConfig(),\n",
    "    \"norm\": FeatureEmbeddingConfig(),\n",
    "    \"angle\": FeatureEmbeddingConfig(),\n",
    "    \"vertex\": FeatureEmbeddingConfig(),\n",
    "}\n",
    "emb = MeshAEEmbedding(cfg)"
   ]
  },
  {
   "cell_type": "code",
   "execution_count": 4,
   "metadata": {},
   "outputs": [
    {
     "data": {
      "text/plain": [
       "MeshAEEmbedding(\n",
       "  (embeddings): ModuleDict(\n",
       "    (area): Embedding(129, 128, padding_idx=0)\n",
       "    (norm): Embedding(129, 128, padding_idx=0)\n",
       "    (angle): Embedding(129, 128, padding_idx=0)\n",
       "    (vertex): Embedding(129, 128, padding_idx=0)\n",
       "  )\n",
       "  (proj_in): Sequential(\n",
       "    (0): Linear(in_features=2048, out_features=512, bias=True)\n",
       "    (1): GELU(approximate='none')\n",
       "  )\n",
       "  (sageconv_in): SAGEConv(512, 512, aggr=mean)\n",
       "  (sageconv_activate): Sequential(\n",
       "    (0): GELU(approximate='none')\n",
       "    (1): LayerNorm((512,), eps=1e-05, elementwise_affine=True)\n",
       "  )\n",
       "  (sageconv_hidden): ModuleList()\n",
       ")"
      ]
     },
     "execution_count": 4,
     "metadata": {},
     "output_type": "execute_result"
    }
   ],
   "source": [
    "emb"
   ]
  },
  {
   "cell_type": "code",
   "execution_count": null,
   "metadata": {},
   "outputs": [],
   "source": []
  }
 ],
 "metadata": {
  "kernelspec": {
   "display_name": ".venv",
   "language": "python",
   "name": "python3"
  },
  "language_info": {
   "codemirror_mode": {
    "name": "ipython",
    "version": 3
   },
   "file_extension": ".py",
   "mimetype": "text/x-python",
   "name": "python",
   "nbconvert_exporter": "python",
   "pygments_lexer": "ipython3",
   "version": "3.10.12"
  }
 },
 "nbformat": 4,
 "nbformat_minor": 2
}
