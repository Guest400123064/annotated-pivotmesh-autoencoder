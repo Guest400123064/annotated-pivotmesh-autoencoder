{
 "cells": [
  {
   "cell_type": "code",
   "execution_count": null,
   "metadata": {},
   "outputs": [
    {
     "ename": "ImportError",
     "evalue": "cannot import name 'Objaverse' from 'data' (/home/catcat/projects/meshpiece/notebooks/../dependencies/pivotmesh/data/__init__.py)",
     "output_type": "error",
     "traceback": [
      "\u001b[0;31m---------------------------------------------------------------------------\u001b[0m",
      "\u001b[0;31mImportError\u001b[0m                               Traceback (most recent call last)",
      "Cell \u001b[0;32mIn[17], line 8\u001b[0m\n\u001b[1;32m      6\u001b[0m \u001b[38;5;28;01mimport\u001b[39;00m\u001b[38;5;250m \u001b[39m\u001b[38;5;21;01mtorch\u001b[39;00m\u001b[38;5;21;01m.\u001b[39;00m\u001b[38;5;21;01mnn\u001b[39;00m\u001b[38;5;21;01m.\u001b[39;00m\u001b[38;5;21;01mfunctional\u001b[39;00m\u001b[38;5;250m \u001b[39m\u001b[38;5;28;01mas\u001b[39;00m\u001b[38;5;250m \u001b[39m\u001b[38;5;21;01mF\u001b[39;00m\n\u001b[1;32m      7\u001b[0m \u001b[38;5;28;01mfrom\u001b[39;00m\u001b[38;5;250m \u001b[39m\u001b[38;5;21;01mmeshae\u001b[39;00m\u001b[38;5;21;01m.\u001b[39;00m\u001b[38;5;21;01mmodel\u001b[39;00m\u001b[38;5;250m \u001b[39m\u001b[38;5;28;01mimport\u001b[39;00m MeshAEFeatEmbedConfig, MeshAEModel\n\u001b[0;32m----> 8\u001b[0m \u001b[38;5;28;01mfrom\u001b[39;00m\u001b[38;5;250m \u001b[39m\u001b[38;5;21;01mdata\u001b[39;00m\u001b[38;5;250m \u001b[39m\u001b[38;5;28;01mimport\u001b[39;00m Objaverse\n",
      "\u001b[0;31mImportError\u001b[0m: cannot import name 'Objaverse' from 'data' (/home/catcat/projects/meshpiece/notebooks/../dependencies/pivotmesh/data/__init__.py)"
     ]
    }
   ],
   "source": [
    "import sys\n",
    "sys.path.append(\"../dependencies/pivotmesh\")\n",
    "\n",
    "import torch\n",
    "import trimesh\n",
    "import torch.nn.functional as F\n",
    "from meshae.model import MeshAEFeatEmbedConfig, MeshAEModel"
   ]
  },
  {
   "cell_type": "code",
   "execution_count": null,
   "metadata": {},
   "outputs": [],
   "source": [
    "feat_configs = {\n",
    "    \"vertex\": MeshAEFeatEmbedConfig(),\n",
    "    \"angle\": MeshAEFeatEmbedConfig(),\n",
    "    \"norm\": MeshAEFeatEmbedConfig(),\n",
    "    \"area\": MeshAEFeatEmbedConfig(),\n",
    "}\n",
    "model = MeshAEModel(feat_configs, num_sageconv_layers=0, num_quantizers=2)"
   ]
  },
  {
   "cell_type": "code",
   "execution_count": null,
   "metadata": {},
   "outputs": [],
   "source": [
    "mesh = trimesh.load_mesh(\n",
    "    \"../data/objaverse/train/0aa9882e169a4f228a27a1a88126ca78.glb\",\n",
    "    file_type=\"glb\",\n",
    ")\n",
    "vertices = torch.from_numpy(mesh.vertices).unsqueeze(0)\n",
    "faces = torch.from_numpy(mesh.faces).unsqueeze(0)\n",
    "face_masks = torch.ones((1, faces.size(1))).bool()"
   ]
  }
 ],
 "metadata": {
  "kernelspec": {
   "display_name": ".venv",
   "language": "python",
   "name": "python3"
  },
  "language_info": {
   "codemirror_mode": {
    "name": "ipython",
    "version": 3
   },
   "file_extension": ".py",
   "mimetype": "text/x-python",
   "name": "python",
   "nbconvert_exporter": "python",
   "pygments_lexer": "ipython3",
   "version": "3.10.12"
  }
 },
 "nbformat": 4,
 "nbformat_minor": 2
}
