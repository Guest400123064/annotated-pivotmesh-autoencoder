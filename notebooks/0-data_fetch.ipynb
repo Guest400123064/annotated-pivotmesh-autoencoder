{
 "cells": [
  {
   "cell_type": "code",
   "execution_count": null,
   "metadata": {},
   "outputs": [],
   "source": [
    "import numpy as np\n",
    "import torch\n",
    "import tqdm\n",
    "import trimesh\n",
    "from torch.utils.data import DataLoader\n",
    "\n",
    "from meshae.config import MeshAEFeatEmbedConfig\n",
    "from meshae.data import MeshAEDataset\n",
    "from meshae.model import MeshAEModel\n",
    "\n",
    "\n",
    "feat_configs = {\n",
    "    \"vrtx\": MeshAEFeatEmbedConfig(high_low=(1.0, -1.0)),\n",
    "    \"acos\": MeshAEFeatEmbedConfig(high_low=(np.pi, 0.0)),\n",
    "    \"norm\": MeshAEFeatEmbedConfig(high_low=(1.0, -1.0), num_bins=512),\n",
    "    \"area\": MeshAEFeatEmbedConfig(high_low=(1.0, 0.0)),\n",
    "}\n",
    "model = MeshAEModel(\n",
    "    feat_configs,\n",
    "    num_sageconv_layers=1,\n",
    "    num_quantizers=2,\n",
    "    num_encoder_layers=2,\n",
    "    num_decoder_layers=2,\n",
    "    num_refiner_layers=2,\n",
    ").to(\"cuda:0\")\n",
    "optimizer = torch.optim.AdamW(model.parameters(), lr=1e-4, weight_decay=1e-6)"
   ]
  },
  {
   "cell_type": "code",
   "execution_count": 2,
   "metadata": {},
   "outputs": [
    {
     "name": "stderr",
     "output_type": "stream",
     "text": [
      "  0%|          | 0/132 [00:00<?, ?it/s]"
     ]
    },
    {
     "name": "stderr",
     "output_type": "stream",
     "text": [
      "total loss = 4.15646648:  13%|█▎        | 17/132 [01:13<08:16,  4.32s/it]\n"
     ]
    }
   ],
   "source": [
    "dataset = MeshAEDataset(\"../data/objaverse/train/\")\n",
    "dataloader = DataLoader(dataset, batch_size=8, collate_fn=dataset.collate_fn)\n",
    "\n",
    "loop = tqdm.tqdm(dataloader)\n",
    "losses = []\n",
    "for i, batch in enumerate(loop):\n",
    "    batch = {k: v.to(\"cuda:0\") for k, v in batch.items()}\n",
    "    l, b, p, c = model(**batch)\n",
    "    losses.append(l.detach().cpu().item())\n",
    "    loop.set_description(f\"total loss = {losses[-1]:.8f}\")\n",
    "    l.backward()\n",
    "    optimizer.step()\n",
    "    optimizer.zero_grad()\n",
    "\n",
    "    if i > 16:\n",
    "        break"
   ]
  },
  {
   "cell_type": "code",
   "execution_count": 3,
   "metadata": {},
   "outputs": [],
   "source": [
    "from meshae.utils import dequantize\n",
    "\n",
    "\n",
    "cfg = feat_configs[\"vrtx\"]\n",
    "faces = dequantize(\n",
    "    p.argmax(-1).detach(),\n",
    "    high_low=cfg.high_low,\n",
    "    num_bins=cfg.num_bins,\n",
    ").reshape(p.size(0), -1, 3, 3)"
   ]
  },
  {
   "cell_type": "code",
   "execution_count": 4,
   "metadata": {},
   "outputs": [
    {
     "data": {
      "text/plain": [
       "(489, 3, 3)"
      ]
     },
     "execution_count": 4,
     "metadata": {},
     "output_type": "execute_result"
    }
   ],
   "source": [
    "face = faces[0][batch[\"face_masks\"][0].cpu()].cpu().numpy()\n",
    "face.shape"
   ]
  },
  {
   "cell_type": "code",
   "execution_count": 5,
   "metadata": {},
   "outputs": [
    {
     "ename": "NameError",
     "evalue": "name 'trimesh' is not defined",
     "output_type": "error",
     "traceback": [
      "\u001b[0;31m---------------------------------------------------------------------------\u001b[0m",
      "\u001b[0;31mNameError\u001b[0m                                 Traceback (most recent call last)",
      "Cell \u001b[0;32mIn[5], line 32\u001b[0m\n\u001b[1;32m     26\u001b[0m     mesh \u001b[38;5;241m=\u001b[39m trimesh\u001b[38;5;241m.\u001b[39mTrimesh(vertices\u001b[38;5;241m=\u001b[39mvertices, \n\u001b[1;32m     27\u001b[0m                           faces\u001b[38;5;241m=\u001b[39mfaces)\n\u001b[1;32m     29\u001b[0m     \u001b[38;5;28;01mreturn\u001b[39;00m mesh\n\u001b[0;32m---> 32\u001b[0m mesh \u001b[38;5;241m=\u001b[39m \u001b[43mcreate_mesh_from_faces\u001b[49m\u001b[43m(\u001b[49m\u001b[43mface\u001b[49m\u001b[43m)\u001b[49m\n\u001b[1;32m     33\u001b[0m mesh\u001b[38;5;241m.\u001b[39mshow()\n",
      "Cell \u001b[0;32mIn[5], line 26\u001b[0m, in \u001b[0;36mcreate_mesh_from_faces\u001b[0;34m(face_vertices)\u001b[0m\n\u001b[1;32m     23\u001b[0m faces \u001b[38;5;241m=\u001b[39m indices\u001b[38;5;241m.\u001b[39mreshape(\u001b[38;5;241m-\u001b[39m\u001b[38;5;241m1\u001b[39m, \u001b[38;5;241m3\u001b[39m)\n\u001b[1;32m     25\u001b[0m \u001b[38;5;66;03m# Create the mesh\u001b[39;00m\n\u001b[0;32m---> 26\u001b[0m mesh \u001b[38;5;241m=\u001b[39m \u001b[43mtrimesh\u001b[49m\u001b[38;5;241m.\u001b[39mTrimesh(vertices\u001b[38;5;241m=\u001b[39mvertices, \n\u001b[1;32m     27\u001b[0m                       faces\u001b[38;5;241m=\u001b[39mfaces)\n\u001b[1;32m     29\u001b[0m \u001b[38;5;28;01mreturn\u001b[39;00m mesh\n",
      "\u001b[0;31mNameError\u001b[0m: name 'trimesh' is not defined"
     ]
    }
   ],
   "source": [
    "def create_mesh_from_faces(face_vertices):\n",
    "    \"\"\"\n",
    "    Create a trimesh.Trimesh object from face vertex data.\n",
    "    \n",
    "    Args:\n",
    "        face_vertices: numpy array of shape (n, 3, 3) where:\n",
    "                      - n: number of faces\n",
    "                      - 3: vertices per face\n",
    "                      - 3: xyz coordinates\n",
    "    \n",
    "    Returns:\n",
    "        trimesh.Trimesh object\n",
    "    \"\"\"\n",
    "    # Reshape to get all vertices (n*3, 3)\n",
    "    all_vertices = face_vertices.reshape(-1, 3)\n",
    "    \n",
    "    # Find unique vertices and inverse indices\n",
    "    vertices, indices = np.unique(all_vertices, \n",
    "                                axis=0, \n",
    "                                return_inverse=True)\n",
    "    \n",
    "    # Reshape indices to get faces (n, 3)\n",
    "    faces = indices.reshape(-1, 3)\n",
    "    \n",
    "    # Create the mesh\n",
    "    mesh = trimesh.Trimesh(vertices=vertices, \n",
    "                          faces=faces)\n",
    "    \n",
    "    return mesh\n",
    "\n",
    "\n",
    "mesh = create_mesh_from_faces(face)\n",
    "mesh.show()"
   ]
  },
  {
   "cell_type": "code",
   "execution_count": null,
   "metadata": {},
   "outputs": [],
   "source": []
  }
 ],
 "metadata": {
  "kernelspec": {
   "display_name": ".venv",
   "language": "python",
   "name": "python3"
  },
  "language_info": {
   "codemirror_mode": {
    "name": "ipython",
    "version": 3
   },
   "file_extension": ".py",
   "mimetype": "text/x-python",
   "name": "python",
   "nbconvert_exporter": "python",
   "pygments_lexer": "ipython3",
   "version": "3.10.12"
  }
 },
 "nbformat": 4,
 "nbformat_minor": 2
}
