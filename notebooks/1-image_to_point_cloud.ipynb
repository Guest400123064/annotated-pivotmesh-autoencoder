{
 "cells": [
  {
   "cell_type": "code",
   "execution_count": 1,
   "metadata": {},
   "outputs": [],
   "source": [
    "import sys\n",
    "sys.path.append(\"../dependencies/geometric-algebra-transformer\")\n",
    "sys.path.append(\"..\")\n",
    "\n",
    "from functools import partial\n",
    "\n",
    "import torch\n",
    "import ezgatr.nn.functional as F\n",
    "from gatr.primitives import geometric_attention\n",
    "from gatr.primitives.attention import _lin_square_normalizer"
   ]
  },
  {
   "cell_type": "code",
   "execution_count": 7,
   "metadata": {},
   "outputs": [],
   "source": [
    "for _ in range(32):\n",
    "    q = torch.randn((16, 4, 128, 8, 16), dtype=torch.float32)\n",
    "    k = torch.randn((16, 4, 128, 8, 16), dtype=torch.float32)\n",
    "    v = torch.randn((16, 4, 128, 8, 16), dtype=torch.float32)\n",
    "    s = torch.zeros((16, 4, 128, 4))\n",
    "    torch.testing.assert_close(\n",
    "        geometric_attention(\n",
    "            q, k, v, s, s, s,\n",
    "            normalizer=partial(_lin_square_normalizer, epsilon=1e-3),\n",
    "        )[0],\n",
    "        F.equi_geometric_attention(\n",
    "            (q, s),\n",
    "            (k, s),\n",
    "            (v, s),\n",
    "            kinds={\"ipa\": None, \"daa\": None}\n",
    "        )[0],\n",
    "        rtol=1e-5,\n",
    "        atol=1e-4,\n",
    "    )"
   ]
  },
  {
   "cell_type": "code",
   "execution_count": null,
   "metadata": {},
   "outputs": [],
   "source": []
  }
 ],
 "metadata": {
  "kernelspec": {
   "display_name": ".venv",
   "language": "python",
   "name": "python3"
  },
  "language_info": {
   "codemirror_mode": {
    "name": "ipython",
    "version": 3
   },
   "file_extension": ".py",
   "mimetype": "text/x-python",
   "name": "python",
   "nbconvert_exporter": "python",
   "pygments_lexer": "ipython3",
   "version": "3.10.12"
  }
 },
 "nbformat": 4,
 "nbformat_minor": 2
}
